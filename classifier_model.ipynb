{
 "cells": [
  {
   "cell_type": "code",
   "execution_count": 167,
   "id": "bd0bf13a",
   "metadata": {},
   "outputs": [],
   "source": [
    "import numpy as np\n",
    "import pandas as pd\n",
    "import matplotlib.pyplot as plt\n",
    "import tensorflow as tf\n",
    "import cv2\n",
    "from PIL import Image\n",
    "\n",
    "from tensorflow import keras\n",
    "from sklearn.model_selection import train_test_split\n"
   ]
  },
  {
   "cell_type": "code",
   "execution_count": 168,
   "id": "4bb7d2f9",
   "metadata": {},
   "outputs": [
    {
     "data": {
      "text/html": [
       "<div>\n",
       "<style scoped>\n",
       "    .dataframe tbody tr th:only-of-type {\n",
       "        vertical-align: middle;\n",
       "    }\n",
       "\n",
       "    .dataframe tbody tr th {\n",
       "        vertical-align: top;\n",
       "    }\n",
       "\n",
       "    .dataframe thead th {\n",
       "        text-align: right;\n",
       "    }\n",
       "</style>\n",
       "<table border=\"1\" class=\"dataframe\">\n",
       "  <thead>\n",
       "    <tr style=\"text-align: right;\">\n",
       "      <th></th>\n",
       "      <th>45</th>\n",
       "      <th>0</th>\n",
       "      <th>0.1</th>\n",
       "      <th>0.2</th>\n",
       "      <th>0.3</th>\n",
       "      <th>0.4</th>\n",
       "      <th>0.5</th>\n",
       "      <th>0.6</th>\n",
       "      <th>0.7</th>\n",
       "      <th>0.8</th>\n",
       "      <th>...</th>\n",
       "      <th>0.524</th>\n",
       "      <th>0.525</th>\n",
       "      <th>0.526</th>\n",
       "      <th>0.527</th>\n",
       "      <th>0.528</th>\n",
       "      <th>0.529</th>\n",
       "      <th>0.530</th>\n",
       "      <th>0.531</th>\n",
       "      <th>0.532</th>\n",
       "      <th>0.533</th>\n",
       "    </tr>\n",
       "  </thead>\n",
       "  <tbody>\n",
       "    <tr>\n",
       "      <th>0</th>\n",
       "      <td>36</td>\n",
       "      <td>0</td>\n",
       "      <td>0</td>\n",
       "      <td>0</td>\n",
       "      <td>0</td>\n",
       "      <td>0</td>\n",
       "      <td>0</td>\n",
       "      <td>0</td>\n",
       "      <td>0</td>\n",
       "      <td>0</td>\n",
       "      <td>...</td>\n",
       "      <td>0</td>\n",
       "      <td>0</td>\n",
       "      <td>0</td>\n",
       "      <td>0</td>\n",
       "      <td>0</td>\n",
       "      <td>0</td>\n",
       "      <td>0</td>\n",
       "      <td>0</td>\n",
       "      <td>0</td>\n",
       "      <td>0</td>\n",
       "    </tr>\n",
       "    <tr>\n",
       "      <th>1</th>\n",
       "      <td>43</td>\n",
       "      <td>0</td>\n",
       "      <td>0</td>\n",
       "      <td>0</td>\n",
       "      <td>0</td>\n",
       "      <td>0</td>\n",
       "      <td>0</td>\n",
       "      <td>0</td>\n",
       "      <td>0</td>\n",
       "      <td>0</td>\n",
       "      <td>...</td>\n",
       "      <td>0</td>\n",
       "      <td>0</td>\n",
       "      <td>0</td>\n",
       "      <td>0</td>\n",
       "      <td>0</td>\n",
       "      <td>0</td>\n",
       "      <td>0</td>\n",
       "      <td>0</td>\n",
       "      <td>0</td>\n",
       "      <td>0</td>\n",
       "    </tr>\n",
       "    <tr>\n",
       "      <th>2</th>\n",
       "      <td>15</td>\n",
       "      <td>0</td>\n",
       "      <td>0</td>\n",
       "      <td>0</td>\n",
       "      <td>0</td>\n",
       "      <td>0</td>\n",
       "      <td>0</td>\n",
       "      <td>0</td>\n",
       "      <td>0</td>\n",
       "      <td>0</td>\n",
       "      <td>...</td>\n",
       "      <td>0</td>\n",
       "      <td>0</td>\n",
       "      <td>0</td>\n",
       "      <td>0</td>\n",
       "      <td>0</td>\n",
       "      <td>0</td>\n",
       "      <td>0</td>\n",
       "      <td>0</td>\n",
       "      <td>0</td>\n",
       "      <td>0</td>\n",
       "    </tr>\n",
       "    <tr>\n",
       "      <th>3</th>\n",
       "      <td>4</td>\n",
       "      <td>0</td>\n",
       "      <td>0</td>\n",
       "      <td>0</td>\n",
       "      <td>0</td>\n",
       "      <td>0</td>\n",
       "      <td>0</td>\n",
       "      <td>0</td>\n",
       "      <td>0</td>\n",
       "      <td>0</td>\n",
       "      <td>...</td>\n",
       "      <td>0</td>\n",
       "      <td>0</td>\n",
       "      <td>0</td>\n",
       "      <td>0</td>\n",
       "      <td>0</td>\n",
       "      <td>0</td>\n",
       "      <td>0</td>\n",
       "      <td>0</td>\n",
       "      <td>0</td>\n",
       "      <td>0</td>\n",
       "    </tr>\n",
       "    <tr>\n",
       "      <th>4</th>\n",
       "      <td>42</td>\n",
       "      <td>0</td>\n",
       "      <td>0</td>\n",
       "      <td>0</td>\n",
       "      <td>0</td>\n",
       "      <td>0</td>\n",
       "      <td>0</td>\n",
       "      <td>0</td>\n",
       "      <td>0</td>\n",
       "      <td>0</td>\n",
       "      <td>...</td>\n",
       "      <td>0</td>\n",
       "      <td>0</td>\n",
       "      <td>0</td>\n",
       "      <td>0</td>\n",
       "      <td>0</td>\n",
       "      <td>0</td>\n",
       "      <td>0</td>\n",
       "      <td>0</td>\n",
       "      <td>0</td>\n",
       "      <td>0</td>\n",
       "    </tr>\n",
       "  </tbody>\n",
       "</table>\n",
       "<p>5 rows × 785 columns</p>\n",
       "</div>"
      ],
      "text/plain": [
       "   45  0  0.1  0.2  0.3  0.4  0.5  0.6  0.7  0.8  ...  0.524  0.525  0.526  \\\n",
       "0  36  0    0    0    0    0    0    0    0    0  ...      0      0      0   \n",
       "1  43  0    0    0    0    0    0    0    0    0  ...      0      0      0   \n",
       "2  15  0    0    0    0    0    0    0    0    0  ...      0      0      0   \n",
       "3   4  0    0    0    0    0    0    0    0    0  ...      0      0      0   \n",
       "4  42  0    0    0    0    0    0    0    0    0  ...      0      0      0   \n",
       "\n",
       "   0.527  0.528  0.529  0.530  0.531  0.532  0.533  \n",
       "0      0      0      0      0      0      0      0  \n",
       "1      0      0      0      0      0      0      0  \n",
       "2      0      0      0      0      0      0      0  \n",
       "3      0      0      0      0      0      0      0  \n",
       "4      0      0      0      0      0      0      0  \n",
       "\n",
       "[5 rows x 785 columns]"
      ]
     },
     "execution_count": 168,
     "metadata": {},
     "output_type": "execute_result"
    }
   ],
   "source": [
    "data_train = pd.read_csv('data/emnist-balanced-train.csv')\n",
    "data_test = pd.read_csv('data/emnist-balanced-test.csv')\n",
    "mapp = pd.read_csv(\"data/emnist-balanced-mapping.txt\", delimiter = ' ', \\\n",
    "                   index_col=0, header=None).squeeze(\"columns\")\n",
    "data_train.head()"
   ]
  },
  {
   "cell_type": "code",
   "execution_count": 169,
   "id": "a18b33a0",
   "metadata": {},
   "outputs": [
    {
     "name": "stdout",
     "output_type": "stream",
     "text": [
      "(112799, 28, 28, 1) (112799,) (18799, 28, 28, 1) (18799,)\n"
     ]
    }
   ],
   "source": [
    "X_train = data_train.iloc[:,1:]\n",
    "y_train = data_train.iloc[:,0]\n",
    "\n",
    "X_test = data_test.iloc[:,1:]\n",
    "y_test = data_test.iloc[:,0]\n",
    "\n",
    "X_train = X_train.to_numpy()\n",
    "y_train = y_train.to_numpy()\n",
    "\n",
    "X_test = X_test.to_numpy()\n",
    "y_test = y_test.to_numpy()\n",
    "\n",
    "X_train_scaled = X_train / 255.0\n",
    "X_train_scaled = X_train_scaled.astype('float32')\n",
    "X_test_scaled = X_test / 255.0\n",
    "X_test_scaled = X_test_scaled.astype('float32')\n",
    "\n",
    "X_train_scaled = X_train_scaled.reshape(X_train_scaled.shape[0],28,28,1)\n",
    "X_test_scaled = X_test_scaled.reshape(X_test_scaled.shape[0],28,28,1)\n",
    "\n",
    "print(X_train_scaled.shape, y_train.shape,X_test_scaled.shape,y_test.shape)\n",
    "\n"
   ]
  },
  {
   "cell_type": "code",
   "execution_count": 170,
   "id": "ef829a04",
   "metadata": {},
   "outputs": [],
   "source": [
    "number_of_classes = 48\n",
    "\n",
    "y_train = tf.keras.utils.to_categorical(y_train, number_of_classes)\n",
    "y_test = tf.keras.utils.to_categorical(y_test, number_of_classes)\n",
    "\n",
    "X_train_scaled,val_scaled,y_train,val_target = train_test_split(X_train_scaled,y_train,train_size=0.4, random_state=42)\n"
   ]
  },
  {
   "cell_type": "code",
   "execution_count": 171,
   "id": "7d66cb03",
   "metadata": {},
   "outputs": [
    {
     "name": "stdout",
     "output_type": "stream",
     "text": [
      "Model: \"sequential_20\"\n",
      "_________________________________________________________________\n",
      "Layer (type)                 Output Shape              Param #   \n",
      "=================================================================\n",
      "conv2d_25 (Conv2D)           (None, 26, 26, 32)        320       \n",
      "_________________________________________________________________\n",
      "max_pooling2d_25 (MaxPooling (None, 13, 13, 32)        0         \n",
      "_________________________________________________________________\n",
      "flatten_19 (Flatten)         (None, 5408)              0         \n",
      "_________________________________________________________________\n",
      "dense_57 (Dense)             (None, 512)               2769408   \n",
      "_________________________________________________________________\n",
      "dense_58 (Dense)             (None, 128)               65664     \n",
      "_________________________________________________________________\n",
      "dense_59 (Dense)             (None, 48)                6192      \n",
      "=================================================================\n",
      "Total params: 2,841,584\n",
      "Trainable params: 2,841,584\n",
      "Non-trainable params: 0\n",
      "_________________________________________________________________\n"
     ]
    }
   ],
   "source": [
    "model = tf.keras.Sequential([ \n",
    "    tf.keras.layers.Conv2D(32,3,input_shape=(28,28,1)),\n",
    "    tf.keras.layers.MaxPooling2D(2,2),\n",
    "    tf.keras.layers.Flatten(input_shape=(28,28,1)),\n",
    "    tf.keras.layers.Dense(512,activation='relu'),\n",
    "    tf.keras.layers.Dense(128,activation='relu'),\n",
    "    tf.keras.layers.Dense(number_of_classes,activation='softmax')\n",
    "])\n",
    "\n",
    "model.summary()"
   ]
  },
  {
   "cell_type": "code",
   "execution_count": 179,
   "id": "28ad79a0",
   "metadata": {},
   "outputs": [
    {
     "name": "stdout",
     "output_type": "stream",
     "text": [
      "Epoch 1/30\n",
      "177/177 [==============================] - 7s 38ms/step - loss: 1.2187 - accuracy: 0.6765 - val_loss: 0.7586 - val_accuracy: 0.7768\n",
      "\n",
      "Epoch 00001: val_accuracy improved from -inf to 0.77682, saving model to best-parameters.h5\n",
      "Epoch 2/30\n",
      "177/177 [==============================] - 7s 38ms/step - loss: 0.9403 - accuracy: 0.7293 - val_loss: 0.6963 - val_accuracy: 0.7979\n",
      "\n",
      "Epoch 00002: val_accuracy improved from 0.77682 to 0.79792, saving model to best-parameters.h5\n",
      "Epoch 3/30\n",
      "177/177 [==============================] - 7s 38ms/step - loss: 0.8394 - accuracy: 0.7531 - val_loss: 0.6640 - val_accuracy: 0.8018\n",
      "\n",
      "Epoch 00003: val_accuracy improved from 0.79792 to 0.80176, saving model to best-parameters.h5\n",
      "Epoch 4/30\n",
      "177/177 [==============================] - 7s 37ms/step - loss: 0.7725 - accuracy: 0.7711 - val_loss: 0.6503 - val_accuracy: 0.8035\n",
      "\n",
      "Epoch 00004: val_accuracy improved from 0.80176 to 0.80350, saving model to best-parameters.h5\n",
      "Epoch 5/30\n",
      "177/177 [==============================] - 7s 38ms/step - loss: 0.7449 - accuracy: 0.7768 - val_loss: 0.6191 - val_accuracy: 0.8099\n",
      "\n",
      "Epoch 00005: val_accuracy improved from 0.80350 to 0.80986, saving model to best-parameters.h5\n",
      "Epoch 6/30\n",
      "177/177 [==============================] - 7s 38ms/step - loss: 0.6952 - accuracy: 0.7851 - val_loss: 0.6171 - val_accuracy: 0.8144\n",
      "\n",
      "Epoch 00006: val_accuracy improved from 0.80986 to 0.81438, saving model to best-parameters.h5\n",
      "Epoch 7/30\n",
      "177/177 [==============================] - 7s 38ms/step - loss: 0.6702 - accuracy: 0.7958 - val_loss: 0.6151 - val_accuracy: 0.8163\n",
      "\n",
      "Epoch 00007: val_accuracy improved from 0.81438 to 0.81628, saving model to best-parameters.h5\n",
      "Epoch 8/30\n",
      "177/177 [==============================] - 7s 37ms/step - loss: 0.6593 - accuracy: 0.7950 - val_loss: 0.6094 - val_accuracy: 0.8143\n",
      "\n",
      "Epoch 00008: val_accuracy did not improve from 0.81628\n",
      "Epoch 9/30\n",
      "177/177 [==============================] - 6s 35ms/step - loss: 0.6393 - accuracy: 0.8010 - val_loss: 0.5964 - val_accuracy: 0.8195\n",
      "\n",
      "Epoch 00009: val_accuracy improved from 0.81628 to 0.81947, saving model to best-parameters.h5\n",
      "Epoch 10/30\n",
      "177/177 [==============================] - 6s 36ms/step - loss: 0.6216 - accuracy: 0.8043 - val_loss: 0.5988 - val_accuracy: 0.8227\n",
      "\n",
      "Epoch 00010: val_accuracy improved from 0.81947 to 0.82271, saving model to best-parameters.h5\n",
      "Epoch 11/30\n",
      "177/177 [==============================] - 6s 36ms/step - loss: 0.5997 - accuracy: 0.8107 - val_loss: 0.5998 - val_accuracy: 0.8232\n",
      "\n",
      "Epoch 00011: val_accuracy improved from 0.82271 to 0.82323, saving model to best-parameters.h5\n",
      "Epoch 12/30\n",
      "177/177 [==============================] - 6s 35ms/step - loss: 0.5956 - accuracy: 0.8121 - val_loss: 0.5922 - val_accuracy: 0.8259\n",
      "\n",
      "Epoch 00012: val_accuracy improved from 0.82323 to 0.82589, saving model to best-parameters.h5\n",
      "Epoch 13/30\n",
      "177/177 [==============================] - 6s 36ms/step - loss: 0.5778 - accuracy: 0.8163 - val_loss: 0.6210 - val_accuracy: 0.8236\n",
      "\n",
      "Epoch 00013: val_accuracy did not improve from 0.82589\n",
      "Epoch 14/30\n",
      "177/177 [==============================] - 6s 36ms/step - loss: 0.5675 - accuracy: 0.8180 - val_loss: 0.5981 - val_accuracy: 0.8232\n",
      "\n",
      "Epoch 00014: val_accuracy did not improve from 0.82589\n",
      "Epoch 15/30\n",
      "177/177 [==============================] - 6s 36ms/step - loss: 0.5590 - accuracy: 0.8218 - val_loss: 0.6084 - val_accuracy: 0.8307\n",
      "\n",
      "Epoch 00015: val_accuracy improved from 0.82589 to 0.83067, saving model to best-parameters.h5\n",
      "Epoch 16/30\n",
      "177/177 [==============================] - 6s 37ms/step - loss: 0.4870 - accuracy: 0.8372 - val_loss: 0.5999 - val_accuracy: 0.8379\n",
      "\n",
      "Epoch 00016: val_accuracy improved from 0.83067 to 0.83790, saving model to best-parameters.h5\n",
      "Epoch 17/30\n",
      "177/177 [==============================] - 6s 35ms/step - loss: 0.4516 - accuracy: 0.8479 - val_loss: 0.5937 - val_accuracy: 0.8391\n",
      "\n",
      "Epoch 00017: val_accuracy improved from 0.83790 to 0.83913, saving model to best-parameters.h5\n",
      "Epoch 18/30\n",
      "177/177 [==============================] - 6s 36ms/step - loss: 0.4440 - accuracy: 0.8505 - val_loss: 0.5845 - val_accuracy: 0.8386\n",
      "\n",
      "Epoch 00018: val_accuracy did not improve from 0.83913\n",
      "Epoch 19/30\n",
      "177/177 [==============================] - 6s 35ms/step - loss: 0.4385 - accuracy: 0.8516 - val_loss: 0.5993 - val_accuracy: 0.8399\n",
      "\n",
      "Epoch 00019: val_accuracy improved from 0.83913 to 0.83994, saving model to best-parameters.h5\n",
      "Epoch 20/30\n",
      "177/177 [==============================] - 6s 36ms/step - loss: 0.4321 - accuracy: 0.8528 - val_loss: 0.6188 - val_accuracy: 0.8402\n",
      "\n",
      "Epoch 00020: val_accuracy improved from 0.83994 to 0.84016, saving model to best-parameters.h5\n",
      "Epoch 21/30\n",
      "177/177 [==============================] - 6s 37ms/step - loss: 0.4241 - accuracy: 0.8547 - val_loss: 0.6087 - val_accuracy: 0.8397\n",
      "\n",
      "Epoch 00021: val_accuracy did not improve from 0.84016\n",
      "Epoch 22/30\n",
      "177/177 [==============================] - 6s 35ms/step - loss: 0.4173 - accuracy: 0.8577 - val_loss: 0.6063 - val_accuracy: 0.8392\n",
      "\n",
      "Epoch 00022: val_accuracy did not improve from 0.84016\n",
      "Epoch 23/30\n",
      "177/177 [==============================] - 6s 36ms/step - loss: 0.4072 - accuracy: 0.8584 - val_loss: 0.6020 - val_accuracy: 0.8396\n",
      "\n",
      "Epoch 00023: val_accuracy did not improve from 0.84016\n"
     ]
    }
   ],
   "source": [
    "from keras.callbacks import ModelCheckpoint,EarlyStopping,ReduceLROnPlateau\n",
    "\n",
    "model.compile(optimizer='rmsprop',loss='categorical_crossentropy',metrics=['accuracy'])\n",
    "RLP = ReduceLROnPlateau(monitor='val_loss',patience=3,factor=0.2,min_lr=0.0001)\n",
    "checkpoint = ModelCheckpoint('best-parameters.h5',verbose=1,save_best_only=True,monitor='val_accuracy',mode='max')\n",
    "early_stopping = EarlyStopping(monitor='val_accuracy',min_delta=0,verbose=0,restore_best_weights = True,patience=3,mode='max')\n",
    "\n",
    "history = model.fit(X_train_scaled,y_train,epochs=30,batch_size=256,verbose=1,validation_data=(val_scaled,val_target),callbacks=[checkpoint,early_stopping,RLP])"
   ]
  },
  {
   "cell_type": "code",
   "execution_count": 174,
   "id": "6afa16ec",
   "metadata": {},
   "outputs": [
    {
     "data": {
      "text/plain": [
       "[<matplotlib.lines.Line2D at 0x133d87c7e80>]"
      ]
     },
     "execution_count": 174,
     "metadata": {},
     "output_type": "execute_result"
    },
    {
     "data": {
      "image/png": "[encoded data removed]",
      "text/plain": [
       "<Figure size 432x288 with 1 Axes>"
      ]
     },
     "metadata": {
      "needs_background": "light"
     },
     "output_type": "display_data"
    }
   ],
   "source": [
    "plt.plot(history.history['loss'])\n",
    "plt.plot(history.history['val_loss'])\n"
   ]
  },
  {
   "cell_type": "code",
   "execution_count": 175,
   "id": "0a2a3c55",
   "metadata": {},
   "outputs": [
    {
     "data": {
      "text/plain": [
       "[<matplotlib.lines.Line2D at 0x133dba89d00>]"
      ]
     },
     "execution_count": 175,
     "metadata": {},
     "output_type": "execute_result"
    },
    {
     "data": {
      "image/png": "[encoded data removed]",
      "text/plain": [
       "<Figure size 432x288 with 1 Axes>"
      ]
     },
     "metadata": {
      "needs_background": "light"
     },
     "output_type": "display_data"
    }
   ],
   "source": [
    "plt.plot(history.history['accuracy'])\n",
    "plt.plot(history.history['val_accuracy'])"
   ]
  }
 ],
 "metadata": {
  "interpreter": {
   "hash": "b2672bbf93573d62efb0a978994b8b68b20fbcabe2dfd191467b8d62c38546a6"
  },
  "kernelspec": {
   "display_name": "venv",
   "language": "python",
   "name": "python3"
  },
  "language_info": {
   "codemirror_mode": {
    "name": "ipython",
    "version": 3
   },
   "file_extension": ".py",
   "mimetype": "text/x-python",
   "name": "python",
   "nbconvert_exporter": "python",
   "pygments_lexer": "ipython3",
   "version": "3.9.7"
  }
 },
 "nbformat": 4,
 "nbformat_minor": 5
}
