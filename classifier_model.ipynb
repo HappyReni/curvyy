{
 "cells": [
  {
   "cell_type": "code",
   "execution_count": 97,
   "id": "bd0bf13a",
   "metadata": {},
   "outputs": [],
   "source": [
    "import numpy as np\n",
    "import pandas as pd\n",
    "import matplotlib.pyplot as plt\n",
    "import tensorflow as tf\n",
    "import cv2\n",
    "from PIL import Image\n",
    "\n",
    "from tensorflow import keras\n",
    "from sklearn.model_selection import train_test_split\n"
   ]
  },
  {
   "cell_type": "code",
   "execution_count": 12,
   "id": "4bb7d2f9",
   "metadata": {},
   "outputs": [
    {
     "data": {
      "text/html": [
       "<div>\n",
       "<style scoped>\n",
       "    .dataframe tbody tr th:only-of-type {\n",
       "        vertical-align: middle;\n",
       "    }\n",
       "\n",
       "    .dataframe tbody tr th {\n",
       "        vertical-align: top;\n",
       "    }\n",
       "\n",
       "    .dataframe thead th {\n",
       "        text-align: right;\n",
       "    }\n",
       "</style>\n",
       "<table border=\"1\" class=\"dataframe\">\n",
       "  <thead>\n",
       "    <tr style=\"text-align: right;\">\n",
       "      <th></th>\n",
       "      <th>45</th>\n",
       "      <th>0</th>\n",
       "      <th>0.1</th>\n",
       "      <th>0.2</th>\n",
       "      <th>0.3</th>\n",
       "      <th>0.4</th>\n",
       "      <th>0.5</th>\n",
       "      <th>0.6</th>\n",
       "      <th>0.7</th>\n",
       "      <th>0.8</th>\n",
       "      <th>...</th>\n",
       "      <th>0.524</th>\n",
       "      <th>0.525</th>\n",
       "      <th>0.526</th>\n",
       "      <th>0.527</th>\n",
       "      <th>0.528</th>\n",
       "      <th>0.529</th>\n",
       "      <th>0.530</th>\n",
       "      <th>0.531</th>\n",
       "      <th>0.532</th>\n",
       "      <th>0.533</th>\n",
       "    </tr>\n",
       "  </thead>\n",
       "  <tbody>\n",
       "    <tr>\n",
       "      <th>0</th>\n",
       "      <td>36</td>\n",
       "      <td>0</td>\n",
       "      <td>0</td>\n",
       "      <td>0</td>\n",
       "      <td>0</td>\n",
       "      <td>0</td>\n",
       "      <td>0</td>\n",
       "      <td>0</td>\n",
       "      <td>0</td>\n",
       "      <td>0</td>\n",
       "      <td>...</td>\n",
       "      <td>0</td>\n",
       "      <td>0</td>\n",
       "      <td>0</td>\n",
       "      <td>0</td>\n",
       "      <td>0</td>\n",
       "      <td>0</td>\n",
       "      <td>0</td>\n",
       "      <td>0</td>\n",
       "      <td>0</td>\n",
       "      <td>0</td>\n",
       "    </tr>\n",
       "    <tr>\n",
       "      <th>1</th>\n",
       "      <td>43</td>\n",
       "      <td>0</td>\n",
       "      <td>0</td>\n",
       "      <td>0</td>\n",
       "      <td>0</td>\n",
       "      <td>0</td>\n",
       "      <td>0</td>\n",
       "      <td>0</td>\n",
       "      <td>0</td>\n",
       "      <td>0</td>\n",
       "      <td>...</td>\n",
       "      <td>0</td>\n",
       "      <td>0</td>\n",
       "      <td>0</td>\n",
       "      <td>0</td>\n",
       "      <td>0</td>\n",
       "      <td>0</td>\n",
       "      <td>0</td>\n",
       "      <td>0</td>\n",
       "      <td>0</td>\n",
       "      <td>0</td>\n",
       "    </tr>\n",
       "    <tr>\n",
       "      <th>2</th>\n",
       "      <td>15</td>\n",
       "      <td>0</td>\n",
       "      <td>0</td>\n",
       "      <td>0</td>\n",
       "      <td>0</td>\n",
       "      <td>0</td>\n",
       "      <td>0</td>\n",
       "      <td>0</td>\n",
       "      <td>0</td>\n",
       "      <td>0</td>\n",
       "      <td>...</td>\n",
       "      <td>0</td>\n",
       "      <td>0</td>\n",
       "      <td>0</td>\n",
       "      <td>0</td>\n",
       "      <td>0</td>\n",
       "      <td>0</td>\n",
       "      <td>0</td>\n",
       "      <td>0</td>\n",
       "      <td>0</td>\n",
       "      <td>0</td>\n",
       "    </tr>\n",
       "    <tr>\n",
       "      <th>3</th>\n",
       "      <td>4</td>\n",
       "      <td>0</td>\n",
       "      <td>0</td>\n",
       "      <td>0</td>\n",
       "      <td>0</td>\n",
       "      <td>0</td>\n",
       "      <td>0</td>\n",
       "      <td>0</td>\n",
       "      <td>0</td>\n",
       "      <td>0</td>\n",
       "      <td>...</td>\n",
       "      <td>0</td>\n",
       "      <td>0</td>\n",
       "      <td>0</td>\n",
       "      <td>0</td>\n",
       "      <td>0</td>\n",
       "      <td>0</td>\n",
       "      <td>0</td>\n",
       "      <td>0</td>\n",
       "      <td>0</td>\n",
       "      <td>0</td>\n",
       "    </tr>\n",
       "    <tr>\n",
       "      <th>4</th>\n",
       "      <td>42</td>\n",
       "      <td>0</td>\n",
       "      <td>0</td>\n",
       "      <td>0</td>\n",
       "      <td>0</td>\n",
       "      <td>0</td>\n",
       "      <td>0</td>\n",
       "      <td>0</td>\n",
       "      <td>0</td>\n",
       "      <td>0</td>\n",
       "      <td>...</td>\n",
       "      <td>0</td>\n",
       "      <td>0</td>\n",
       "      <td>0</td>\n",
       "      <td>0</td>\n",
       "      <td>0</td>\n",
       "      <td>0</td>\n",
       "      <td>0</td>\n",
       "      <td>0</td>\n",
       "      <td>0</td>\n",
       "      <td>0</td>\n",
       "    </tr>\n",
       "  </tbody>\n",
       "</table>\n",
       "<p>5 rows × 785 columns</p>\n",
       "</div>"
      ],
      "text/plain": [
       "   45  0  0.1  0.2  0.3  0.4  0.5  0.6  0.7  0.8  ...  0.524  0.525  0.526  \\\n",
       "0  36  0    0    0    0    0    0    0    0    0  ...      0      0      0   \n",
       "1  43  0    0    0    0    0    0    0    0    0  ...      0      0      0   \n",
       "2  15  0    0    0    0    0    0    0    0    0  ...      0      0      0   \n",
       "3   4  0    0    0    0    0    0    0    0    0  ...      0      0      0   \n",
       "4  42  0    0    0    0    0    0    0    0    0  ...      0      0      0   \n",
       "\n",
       "   0.527  0.528  0.529  0.530  0.531  0.532  0.533  \n",
       "0      0      0      0      0      0      0      0  \n",
       "1      0      0      0      0      0      0      0  \n",
       "2      0      0      0      0      0      0      0  \n",
       "3      0      0      0      0      0      0      0  \n",
       "4      0      0      0      0      0      0      0  \n",
       "\n",
       "[5 rows x 785 columns]"
      ]
     },
     "execution_count": 12,
     "metadata": {},
     "output_type": "execute_result"
    }
   ],
   "source": [
    "data_train = pd.read_csv('data/emnist-balanced-train.csv')\n",
    "data_test = pd.read_csv('data/emnist-balanced-test.csv')\n",
    "mapp = pd.read_csv(\"data/emnist-balanced-mapping.txt\", delimiter = ' ', \\\n",
    "                   index_col=0, header=None).squeeze(\"columns\")\n",
    "data_train.head()"
   ]
  },
  {
   "cell_type": "code",
   "execution_count": 43,
   "id": "a18b33a0",
   "metadata": {},
   "outputs": [
    {
     "name": "stdout",
     "output_type": "stream",
     "text": [
      "(112799, 784) (112799,) (18799, 784) (18799,)\n"
     ]
    }
   ],
   "source": [
    "X_train = data_train.iloc[:,1:]\n",
    "y_train = data_train.iloc[:,0]\n",
    "\n",
    "X_test = data_test.iloc[:,1:]\n",
    "y_test = data_test.iloc[:,0]\n",
    "\n",
    "X_train = X_train.to_numpy()\n",
    "y_train = y_train.to_numpy()\n",
    "\n",
    "X_test = X_test.to_numpy()\n",
    "y_test = y_test.to_numpy()\n",
    "\n",
    "X_train_scaled = X_train / 255.0\n",
    "X_train_scaled = X_train_scaled.astype('float32')\n",
    "X_test_scaled = X_train / 255.0\n",
    "X_test_scaled = X_test_scaled.astype('float32')\n",
    "\n",
    "X_train_scaled = X_train_scaled.reshape(X_train_scaled[0],28,28,1)\n",
    "X_test_scaled = X_train_scaled.reshape(-1,28,28,1)\n",
    "\n",
    "X_train_scaled,val_scaled,y_train,val_target = train_test_split(X_train_scaled,y_train,train_size=0.2, random_state=42)\n",
    "print(X_train.shape, y_train.shape,X_test.shape,y_test.shape)\n"
   ]
  },
  {
   "cell_type": "code",
   "execution_count": 58,
   "id": "7d66cb03",
   "metadata": {},
   "outputs": [
    {
     "name": "stdout",
     "output_type": "stream",
     "text": [
      "Model: \"sequential\"\n",
      "_________________________________________________________________\n",
      " Layer (type)                Output Shape              Param #   \n",
      "=================================================================\n",
      " flatten (Flatten)           (None, 784)               0         \n",
      "                                                                 \n",
      " hidden1 (Dense)             (None, 712)               558920    \n",
      "                                                                 \n",
      " dropout (Dropout)           (None, 712)               0         \n",
      "                                                                 \n",
      " hidden2 (Dense)             (None, 512)               365056    \n",
      "                                                                 \n",
      " dropout_1 (Dropout)         (None, 512)               0         \n",
      "                                                                 \n",
      " hidden3 (Dense)             (None, 256)               131328    \n",
      "                                                                 \n",
      " dropout_2 (Dropout)         (None, 256)               0         \n",
      "                                                                 \n",
      " output (Dense)              (None, 48)                12336     \n",
      "                                                                 \n",
      "=================================================================\n",
      "Total params: 1,067,640\n",
      "Trainable params: 1,067,640\n",
      "Non-trainable params: 0\n",
      "_________________________________________________________________\n"
     ]
    }
   ],
   "source": [
    "model = keras.Sequential()\n",
    "model.add(keras.layers.Flatten(input_shape=(28,28)))\n",
    "model.add(keras.layers.Dense(712,activation='relu',name='hidden1'))\n",
    "model.add(keras.layers.Dropout(0.3))\n",
    "model.add(keras.layers.Dense(512,activation='relu',name='hidden2'))\n",
    "model.add(keras.layers.Dropout(0.3))\n",
    "model.add(keras.layers.Dense(256,activation='relu',name='hidden3'))\n",
    "model.add(keras.layers.Dropout(0.3))\n",
    "model.add(keras.layers.Dense(48,activation='softmax',name='output'))\n",
    "\n",
    "model.summary()"
   ]
  },
  {
   "cell_type": "code",
   "execution_count": 59,
   "id": "f190b85f",
   "metadata": {},
   "outputs": [],
   "source": [
    "from keras.optimizers import gradient_descent_v2 \n",
    "learning_rate = 0.001\n",
    "momentum = 0.9\n",
    "sgd = gradient_descent_v2.SGD(learning_rate=learning_rate, momentum=momentum,  nesterov=True)\n",
    "model.compile(optimizer='sgd',loss='sparse_categorical_crossentropy',metrics='accuracy')"
   ]
  },
  {
   "cell_type": "code",
   "execution_count": 60,
   "id": "28ad79a0",
   "metadata": {},
   "outputs": [
    {
     "name": "stdout",
     "output_type": "stream",
     "text": [
      "Epoch 1/10\n",
      "1128/1128 [==============================] - 9s 8ms/step - loss: 3.2145 - accuracy: 0.1704 - val_loss: 1.9900 - val_accuracy: 0.4953\n",
      "Epoch 2/10\n",
      "1128/1128 [==============================] - 9s 8ms/step - loss: 2.0035 - accuracy: 0.4361 - val_loss: 1.4242 - val_accuracy: 0.6013\n",
      "Epoch 3/10\n",
      "1128/1128 [==============================] - 8s 7ms/step - loss: 1.5846 - accuracy: 0.5403 - val_loss: 1.2153 - val_accuracy: 0.6493\n",
      "Epoch 4/10\n",
      "1128/1128 [==============================] - 8s 7ms/step - loss: 1.3918 - accuracy: 0.5921 - val_loss: 1.0823 - val_accuracy: 0.6811\n",
      "Epoch 5/10\n",
      "1128/1128 [==============================] - 8s 7ms/step - loss: 1.2529 - accuracy: 0.6260 - val_loss: 0.9976 - val_accuracy: 0.7011\n",
      "Epoch 6/10\n",
      "1128/1128 [==============================] - 8s 7ms/step - loss: 1.1457 - accuracy: 0.6514 - val_loss: 0.9134 - val_accuracy: 0.7234\n",
      "Epoch 7/10\n",
      "1128/1128 [==============================] - 8s 7ms/step - loss: 1.0668 - accuracy: 0.6762 - val_loss: 0.8755 - val_accuracy: 0.7331\n",
      "Epoch 8/10\n",
      "1128/1128 [==============================] - 8s 7ms/step - loss: 0.9983 - accuracy: 0.6955 - val_loss: 0.8319 - val_accuracy: 0.7419\n",
      "Epoch 9/10\n",
      "1128/1128 [==============================] - 8s 7ms/step - loss: 0.9458 - accuracy: 0.7067 - val_loss: 0.7922 - val_accuracy: 0.7545\n",
      "Epoch 10/10\n",
      "1128/1128 [==============================] - 8s 8ms/step - loss: 0.8894 - accuracy: 0.7198 - val_loss: 0.7658 - val_accuracy: 0.7593\n"
     ]
    }
   ],
   "source": [
    "y_train = y_train.to_numpy()\n",
    "val_scaled = val_scaled.reshape(-1,28,28)\n",
    "val_target = val_target.to_numpy()\n",
    "checkpoint = keras.callbacks.ModelCheckpoint('best-parameters.h5',save_best_only=True)\n",
    "early_stoppping = keras.callbacks.EarlyStopping(patience=3,restore_best_weights=True)\n",
    "history = model.fit(X_train_scaled,y_train,batch_size=20,epochs=10,verbose=1,validation_data=(val_scaled,val_target),callbacks=[checkpoint,early_stoppping])"
   ]
  },
  {
   "cell_type": "code",
   "execution_count": 61,
   "id": "6afa16ec",
   "metadata": {},
   "outputs": [
    {
     "data": {
      "text/plain": [
       "[<matplotlib.lines.Line2D at 0x27eefb41e80>]"
      ]
     },
     "execution_count": 61,
     "metadata": {},
     "output_type": "execute_result"
    },
    {
     "data": {
      "image/png": "[encoded data removed]",
      "text/plain": [
       "<Figure size 432x288 with 1 Axes>"
      ]
     },
     "metadata": {
      "needs_background": "light"
     },
     "output_type": "display_data"
    }
   ],
   "source": [
    "plt.plot(history.history['loss'])\n",
    "plt.plot(history.history['val_loss'])\n"
   ]
  },
  {
   "cell_type": "code",
   "execution_count": 62,
   "id": "0a2a3c55",
   "metadata": {},
   "outputs": [
    {
     "data": {
      "text/plain": [
       "[<matplotlib.lines.Line2D at 0x27eefba1bb0>]"
      ]
     },
     "execution_count": 62,
     "metadata": {},
     "output_type": "execute_result"
    },
    {
     "data": {
      "image/png": "[encoded data removed]",
      "text/plain": [
       "<Figure size 432x288 with 1 Axes>"
      ]
     },
     "metadata": {
      "needs_background": "light"
     },
     "output_type": "display_data"
    }
   ],
   "source": [
    "plt.plot(history.history['accuracy'])\n",
    "plt.plot(history.history['val_accuracy'])"
   ]
  },
  {
   "cell_type": "code",
   "execution_count": 112,
   "id": "75befb44",
   "metadata": {},
   "outputs": [
    {
     "name": "stdout",
     "output_type": "stream",
     "text": [
      "(28, 28, 3)\n"
     ]
    },
    {
     "data": {
      "image/png": "[encoded data removed]",
      "text/plain": [
       "<Figure size 432x288 with 1 Axes>"
      ]
     },
     "metadata": {
      "needs_background": "light"
     },
     "output_type": "display_data"
    },
    {
     "name": "stdout",
     "output_type": "stream",
     "text": [
      "[[6.6326502e-14 1.9684378e-19 7.6076550e-09 5.3059845e-10 2.9799214e-21\n",
      "  1.8190473e-14 1.5798415e-16 8.2578258e-13 4.3868957e-05 4.7534689e-14\n",
      "  4.4463105e-12 9.9995422e-01 1.3461040e-15 5.2929482e-07 1.2370142e-10\n",
      "  4.8915241e-14 1.5152543e-10 6.1776193e-14 1.5411905e-17 7.7216842e-16\n",
      "  1.6467744e-13 1.1761843e-18 2.2836451e-12 8.3352245e-16 2.4044258e-16\n",
      "  3.6144265e-11 2.2878872e-08 1.1726300e-06 7.3532407e-13 1.3008217e-16\n",
      "  4.9032260e-15 3.9034030e-19 1.5183005e-14 1.0958846e-12 4.7937923e-15\n",
      "  2.2429253e-08 1.0746448e-09 8.5922355e-13 1.1595171e-13 1.1609450e-12\n",
      "  5.0500206e-15 1.9987564e-07 3.6228515e-16 1.0715705e-13 7.7719269e-11\n",
      "  4.4068871e-17 3.7343292e-18 3.8120430e-15]]\n",
      "예측 문자 : B\n"
     ]
    }
   ],
   "source": [
    "img = cv2.imread('example.png')\n",
    "print(img.shape)\n",
    "\n",
    "img = np.fliplr(img)\n",
    "img = np.rot90(img)\n",
    "plt.imshow(img)\n",
    "plt.show()\n",
    "img = (255-img[:,:,0].reshape(1,28,28))/255.0\n",
    "\n",
    "\n",
    "model = keras.models.load_model(\"parameters.h5\",compile = True)\n",
    "model.compile(optimizer='sgd',loss='sparse_categorical_crossentropy',metrics='accuracy')\n",
    "\n",
    "result = model.predict(img)\n",
    "print(result)\n",
    "\n",
    "pred_class = np.argmax(result)\n",
    "pred_letter = chr(mapp[pred_class])\n",
    "print(f\"예측 문자 : {pred_letter}\")\n",
    "\n"
   ]
  },
  {
   "cell_type": "code",
   "execution_count": 109,
   "id": "787e2c0d",
   "metadata": {},
   "outputs": [
    {
     "name": "stdout",
     "output_type": "stream",
     "text": [
      "(784,)\n"
     ]
    },
    {
     "data": {
      "image/png": "[encoded data removed]",
      "text/plain": [
       "<Figure size 432x288 with 1 Axes>"
      ]
     },
     "metadata": {
      "needs_background": "light"
     },
     "output_type": "display_data"
    },
    {
     "name": "stdout",
     "output_type": "stream",
     "text": [
      "예측 문자 : S , 실제 문자 : S\n"
     ]
    }
   ],
   "source": [
    "n = len(X_test)\n",
    "rd = np.random.randint(n)\n",
    "print(X_test[rd].shape)\n",
    "saveimg = Image.fromarray(X_test[rd].reshape(28,28).astype(np.uint8))\n",
    "saveimg.save('result.png','png')\n",
    "x_scaled = X_test[rd].reshape(1,28,28)\n",
    "plt.imshow(x_scaled.reshape(28,28),cmap='gray_r')\n",
    "plt.show()\n",
    "result = model.predict(x_scaled)\n",
    "\n",
    "pred_class = np.argmax(result)\n",
    "pred_letter = chr(mapp[pred_class])\n",
    "print(f\"예측 문자 : {pred_letter} , 실제 문자 : {chr(mapp[y_test[rd]])}\")\n"
   ]
  },
  {
   "cell_type": "code",
   "execution_count": null,
   "id": "1d751500",
   "metadata": {},
   "outputs": [],
   "source": []
  },
  {
   "cell_type": "code",
   "execution_count": null,
   "id": "0386bbb6",
   "metadata": {},
   "outputs": [],
   "source": []
  }
 ],
 "metadata": {
  "kernelspec": {
   "display_name": "venv",
   "language": "python",
   "name": "venv"
  },
  "language_info": {
   "codemirror_mode": {
    "name": "ipython",
    "version": 3
   },
   "file_extension": ".py",
   "mimetype": "text/x-python",
   "name": "python",
   "nbconvert_exporter": "python",
   "pygments_lexer": "ipython3",
   "version": "3.9.7"
  }
 },
 "nbformat": 4,
 "nbformat_minor": 5
}
