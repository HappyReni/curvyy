{
 "cells": [
  {
   "cell_type": "code",
   "execution_count": 37,
   "id": "bd0bf13a",
   "metadata": {},
   "outputs": [],
   "source": [
    "import numpy as np\n",
    "import pandas as pd\n",
    "import matplotlib.pyplot as plt\n",
    "import tensorflow as tf\n",
    "from tensorflow import keras\n",
    "from sklearn.model_selection import train_test_split\n"
   ]
  },
  {
   "cell_type": "code",
   "execution_count": 38,
   "id": "4bb7d2f9",
   "metadata": {},
   "outputs": [
    {
     "data": {
      "text/html": [
       "<div>\n",
       "<style scoped>\n",
       "    .dataframe tbody tr th:only-of-type {\n",
       "        vertical-align: middle;\n",
       "    }\n",
       "\n",
       "    .dataframe tbody tr th {\n",
       "        vertical-align: top;\n",
       "    }\n",
       "\n",
       "    .dataframe thead th {\n",
       "        text-align: right;\n",
       "    }\n",
       "</style>\n",
       "<table border=\"1\" class=\"dataframe\">\n",
       "  <thead>\n",
       "    <tr style=\"text-align: right;\">\n",
       "      <th></th>\n",
       "      <th>45</th>\n",
       "      <th>0</th>\n",
       "      <th>0.1</th>\n",
       "      <th>0.2</th>\n",
       "      <th>0.3</th>\n",
       "      <th>0.4</th>\n",
       "      <th>0.5</th>\n",
       "      <th>0.6</th>\n",
       "      <th>0.7</th>\n",
       "      <th>0.8</th>\n",
       "      <th>...</th>\n",
       "      <th>0.524</th>\n",
       "      <th>0.525</th>\n",
       "      <th>0.526</th>\n",
       "      <th>0.527</th>\n",
       "      <th>0.528</th>\n",
       "      <th>0.529</th>\n",
       "      <th>0.530</th>\n",
       "      <th>0.531</th>\n",
       "      <th>0.532</th>\n",
       "      <th>0.533</th>\n",
       "    </tr>\n",
       "  </thead>\n",
       "  <tbody>\n",
       "    <tr>\n",
       "      <th>0</th>\n",
       "      <td>36</td>\n",
       "      <td>0</td>\n",
       "      <td>0</td>\n",
       "      <td>0</td>\n",
       "      <td>0</td>\n",
       "      <td>0</td>\n",
       "      <td>0</td>\n",
       "      <td>0</td>\n",
       "      <td>0</td>\n",
       "      <td>0</td>\n",
       "      <td>...</td>\n",
       "      <td>0</td>\n",
       "      <td>0</td>\n",
       "      <td>0</td>\n",
       "      <td>0</td>\n",
       "      <td>0</td>\n",
       "      <td>0</td>\n",
       "      <td>0</td>\n",
       "      <td>0</td>\n",
       "      <td>0</td>\n",
       "      <td>0</td>\n",
       "    </tr>\n",
       "    <tr>\n",
       "      <th>1</th>\n",
       "      <td>43</td>\n",
       "      <td>0</td>\n",
       "      <td>0</td>\n",
       "      <td>0</td>\n",
       "      <td>0</td>\n",
       "      <td>0</td>\n",
       "      <td>0</td>\n",
       "      <td>0</td>\n",
       "      <td>0</td>\n",
       "      <td>0</td>\n",
       "      <td>...</td>\n",
       "      <td>0</td>\n",
       "      <td>0</td>\n",
       "      <td>0</td>\n",
       "      <td>0</td>\n",
       "      <td>0</td>\n",
       "      <td>0</td>\n",
       "      <td>0</td>\n",
       "      <td>0</td>\n",
       "      <td>0</td>\n",
       "      <td>0</td>\n",
       "    </tr>\n",
       "    <tr>\n",
       "      <th>2</th>\n",
       "      <td>15</td>\n",
       "      <td>0</td>\n",
       "      <td>0</td>\n",
       "      <td>0</td>\n",
       "      <td>0</td>\n",
       "      <td>0</td>\n",
       "      <td>0</td>\n",
       "      <td>0</td>\n",
       "      <td>0</td>\n",
       "      <td>0</td>\n",
       "      <td>...</td>\n",
       "      <td>0</td>\n",
       "      <td>0</td>\n",
       "      <td>0</td>\n",
       "      <td>0</td>\n",
       "      <td>0</td>\n",
       "      <td>0</td>\n",
       "      <td>0</td>\n",
       "      <td>0</td>\n",
       "      <td>0</td>\n",
       "      <td>0</td>\n",
       "    </tr>\n",
       "    <tr>\n",
       "      <th>3</th>\n",
       "      <td>4</td>\n",
       "      <td>0</td>\n",
       "      <td>0</td>\n",
       "      <td>0</td>\n",
       "      <td>0</td>\n",
       "      <td>0</td>\n",
       "      <td>0</td>\n",
       "      <td>0</td>\n",
       "      <td>0</td>\n",
       "      <td>0</td>\n",
       "      <td>...</td>\n",
       "      <td>0</td>\n",
       "      <td>0</td>\n",
       "      <td>0</td>\n",
       "      <td>0</td>\n",
       "      <td>0</td>\n",
       "      <td>0</td>\n",
       "      <td>0</td>\n",
       "      <td>0</td>\n",
       "      <td>0</td>\n",
       "      <td>0</td>\n",
       "    </tr>\n",
       "    <tr>\n",
       "      <th>4</th>\n",
       "      <td>42</td>\n",
       "      <td>0</td>\n",
       "      <td>0</td>\n",
       "      <td>0</td>\n",
       "      <td>0</td>\n",
       "      <td>0</td>\n",
       "      <td>0</td>\n",
       "      <td>0</td>\n",
       "      <td>0</td>\n",
       "      <td>0</td>\n",
       "      <td>...</td>\n",
       "      <td>0</td>\n",
       "      <td>0</td>\n",
       "      <td>0</td>\n",
       "      <td>0</td>\n",
       "      <td>0</td>\n",
       "      <td>0</td>\n",
       "      <td>0</td>\n",
       "      <td>0</td>\n",
       "      <td>0</td>\n",
       "      <td>0</td>\n",
       "    </tr>\n",
       "  </tbody>\n",
       "</table>\n",
       "<p>5 rows × 785 columns</p>\n",
       "</div>"
      ],
      "text/plain": [
       "   45  0  0.1  0.2  0.3  0.4  0.5  0.6  0.7  0.8  ...  0.524  0.525  0.526  \\\n",
       "0  36  0    0    0    0    0    0    0    0    0  ...      0      0      0   \n",
       "1  43  0    0    0    0    0    0    0    0    0  ...      0      0      0   \n",
       "2  15  0    0    0    0    0    0    0    0    0  ...      0      0      0   \n",
       "3   4  0    0    0    0    0    0    0    0    0  ...      0      0      0   \n",
       "4  42  0    0    0    0    0    0    0    0    0  ...      0      0      0   \n",
       "\n",
       "   0.527  0.528  0.529  0.530  0.531  0.532  0.533  \n",
       "0      0      0      0      0      0      0      0  \n",
       "1      0      0      0      0      0      0      0  \n",
       "2      0      0      0      0      0      0      0  \n",
       "3      0      0      0      0      0      0      0  \n",
       "4      0      0      0      0      0      0      0  \n",
       "\n",
       "[5 rows x 785 columns]"
      ]
     },
     "execution_count": 38,
     "metadata": {},
     "output_type": "execute_result"
    }
   ],
   "source": [
    "data_train = pd.read_csv('data/emnist-balanced-train.csv')\n",
    "data_test = pd.read_csv('data/emnist-balanced-test.csv')\n",
    "mapp = pd.read_csv(\"data/emnist-balanced-mapping.txt\", delimiter = ' ', \\\n",
    "                   index_col=0, header=None).squeeze(\"columns\")\n",
    "data_train.head()"
   ]
  },
  {
   "cell_type": "code",
   "execution_count": null,
   "id": "fbf3325d",
   "metadata": {},
   "outputs": [],
   "source": []
  },
  {
   "cell_type": "code",
   "execution_count": 39,
   "id": "75437196",
   "metadata": {},
   "outputs": [],
   "source": [
    "# X_train = X_train.to_numpy()\n",
    "\n",
    "# for i in range(100, 109):\n",
    "#     plt.subplot(330 + (i+1))\n",
    "#     plt.imshow(X_train[i].reshape(28,28), cmap='gray_r')\n",
    "#     plt.title(chr(mapp[y_train[i]]))"
   ]
  },
  {
   "cell_type": "code",
   "execution_count": 40,
   "id": "a18b33a0",
   "metadata": {},
   "outputs": [
    {
     "name": "stdout",
     "output_type": "stream",
     "text": [
      "(112799, 784) (112799,) (18799, 784) (18799,)\n"
     ]
    }
   ],
   "source": [
    "X_train = data_train.iloc[:,1:]\n",
    "y_train = data_train.iloc[:,0]\n",
    "\n",
    "X_test = data_test.iloc[:,1:]\n",
    "y_test = data_test.iloc[:,0]\n",
    "\n",
    "X_train = X_train.to_numpy()\n",
    "print(X_train.shape, y_train.shape,X_test.shape,y_test.shape)\n",
    "\n",
    "X_train_scaled = X_train / 255.0\n",
    "X_train_scaled = X_train_scaled.astype('float32')\n",
    "X_train_scaled,val_scaled,y_train,val_target = train_test_split(X_train_scaled,y_train,train_size=0.2, random_state=42)"
   ]
  },
  {
   "cell_type": "code",
   "execution_count": 41,
   "id": "7d66cb03",
   "metadata": {},
   "outputs": [
    {
     "name": "stdout",
     "output_type": "stream",
     "text": [
      "Model: \"sequential_4\"\n",
      "_________________________________________________________________\n",
      " Layer (type)                Output Shape              Param #   \n",
      "=================================================================\n",
      " flatten_4 (Flatten)         (None, 784)               0         \n",
      "                                                                 \n",
      " hidden1 (Dense)             (None, 712)               558920    \n",
      "                                                                 \n",
      " dropout_11 (Dropout)        (None, 712)               0         \n",
      "                                                                 \n",
      " hidden2 (Dense)             (None, 512)               365056    \n",
      "                                                                 \n",
      " dropout_12 (Dropout)        (None, 512)               0         \n",
      "                                                                 \n",
      " hidden3 (Dense)             (None, 256)               131328    \n",
      "                                                                 \n",
      " dropout_13 (Dropout)        (None, 256)               0         \n",
      "                                                                 \n",
      " output (Dense)              (None, 48)                12336     \n",
      "                                                                 \n",
      "=================================================================\n",
      "Total params: 1,067,640\n",
      "Trainable params: 1,067,640\n",
      "Non-trainable params: 0\n",
      "_________________________________________________________________\n"
     ]
    }
   ],
   "source": [
    "model = keras.Sequential()\n",
    "model.add(keras.layers.Flatten(input_shape=(28,28)))\n",
    "model.add(keras.layers.Dense(712,activation='relu',name='hidden1'))\n",
    "model.add(keras.layers.Dropout(0.3))\n",
    "model.add(keras.layers.Dense(512,activation='relu',name='hidden2'))\n",
    "model.add(keras.layers.Dropout(0.3))\n",
    "model.add(keras.layers.Dense(256,activation='relu',name='hidden3'))\n",
    "model.add(keras.layers.Dropout(0.3))\n",
    "model.add(keras.layers.Dense(48,activation='softmax',name='output'))\n",
    "\n",
    "model.summary()"
   ]
  },
  {
   "cell_type": "code",
   "execution_count": 42,
   "id": "f190b85f",
   "metadata": {},
   "outputs": [],
   "source": [
    "from keras.optimizers import gradient_descent_v2 \n",
    "\n",
    "learning_rate = 0.001\n",
    "momentum = 0.9\n",
    "sgd = gradient_descent_v2.SGD(learning_rate=learning_rate, momentum=momentum,  nesterov=True)\n",
    "model.compile(optimizer='sgd',loss='sparse_categorical_crossentropy',metrics='accuracy')"
   ]
  },
  {
   "cell_type": "code",
   "execution_count": 43,
   "id": "28ad79a0",
   "metadata": {},
   "outputs": [
    {
     "name": "stdout",
     "output_type": "stream",
     "text": [
      "Epoch 1/35\n",
      "2256/2256 [==============================] - 17s 7ms/step - loss: 2.6446 - accuracy: 0.2954 - val_loss: 1.4848 - val_accuracy: 0.5824\n",
      "Epoch 2/35\n",
      "2256/2256 [==============================] - 17s 7ms/step - loss: 1.5572 - accuracy: 0.5489 - val_loss: 1.1282 - val_accuracy: 0.6722\n",
      "Epoch 3/35\n",
      "2256/2256 [==============================] - 17s 8ms/step - loss: 1.2491 - accuracy: 0.6276 - val_loss: 0.9511 - val_accuracy: 0.7129\n",
      "Epoch 4/35\n",
      "2256/2256 [==============================] - 17s 8ms/step - loss: 1.0913 - accuracy: 0.6650 - val_loss: 0.8674 - val_accuracy: 0.7318\n",
      "Epoch 5/35\n",
      "2256/2256 [==============================] - 17s 8ms/step - loss: 0.9767 - accuracy: 0.6980 - val_loss: 0.7965 - val_accuracy: 0.7503\n",
      "Epoch 6/35\n",
      "2256/2256 [==============================] - 18s 8ms/step - loss: 0.8926 - accuracy: 0.7163 - val_loss: 0.7466 - val_accuracy: 0.7640\n",
      "Epoch 7/35\n",
      "2256/2256 [==============================] - 17s 8ms/step - loss: 0.8329 - accuracy: 0.7358 - val_loss: 0.7100 - val_accuracy: 0.7732\n",
      "Epoch 8/35\n",
      "2256/2256 [==============================] - 17s 7ms/step - loss: 0.7690 - accuracy: 0.7534 - val_loss: 0.6812 - val_accuracy: 0.7826\n",
      "Epoch 9/35\n",
      "2256/2256 [==============================] - 17s 8ms/step - loss: 0.7270 - accuracy: 0.7642 - val_loss: 0.6679 - val_accuracy: 0.7851\n",
      "Epoch 10/35\n",
      "2256/2256 [==============================] - 17s 7ms/step - loss: 0.6993 - accuracy: 0.7730 - val_loss: 0.6484 - val_accuracy: 0.7870\n",
      "Epoch 11/35\n",
      "2256/2256 [==============================] - 17s 7ms/step - loss: 0.6662 - accuracy: 0.7803 - val_loss: 0.6367 - val_accuracy: 0.7939\n",
      "Epoch 12/35\n",
      "2256/2256 [==============================] - 17s 8ms/step - loss: 0.6280 - accuracy: 0.7945 - val_loss: 0.6344 - val_accuracy: 0.7911\n",
      "Epoch 13/35\n",
      "2256/2256 [==============================] - 19s 8ms/step - loss: 0.6205 - accuracy: 0.7929 - val_loss: 0.6116 - val_accuracy: 0.7983\n",
      "Epoch 14/35\n",
      "2256/2256 [==============================] - 17s 7ms/step - loss: 0.5889 - accuracy: 0.7992 - val_loss: 0.5989 - val_accuracy: 0.8044\n",
      "Epoch 15/35\n",
      "2256/2256 [==============================] - 18s 8ms/step - loss: 0.5680 - accuracy: 0.8076 - val_loss: 0.5919 - val_accuracy: 0.8069\n",
      "Epoch 16/35\n",
      "2256/2256 [==============================] - 18s 8ms/step - loss: 0.5433 - accuracy: 0.8133 - val_loss: 0.6082 - val_accuracy: 0.8040\n",
      "Epoch 17/35\n",
      "2256/2256 [==============================] - 18s 8ms/step - loss: 0.5326 - accuracy: 0.8134 - val_loss: 0.5865 - val_accuracy: 0.8075\n",
      "Epoch 18/35\n",
      "2256/2256 [==============================] - 18s 8ms/step - loss: 0.5176 - accuracy: 0.8225 - val_loss: 0.5778 - val_accuracy: 0.8123\n",
      "Epoch 19/35\n",
      "2256/2256 [==============================] - 18s 8ms/step - loss: 0.4973 - accuracy: 0.8280 - val_loss: 0.5897 - val_accuracy: 0.8087\n",
      "Epoch 20/35\n",
      "2256/2256 [==============================] - 17s 7ms/step - loss: 0.4813 - accuracy: 0.8311 - val_loss: 0.5735 - val_accuracy: 0.8134\n",
      "Epoch 21/35\n",
      "2256/2256 [==============================] - 17s 8ms/step - loss: 0.4717 - accuracy: 0.8327 - val_loss: 0.5688 - val_accuracy: 0.8160\n",
      "Epoch 22/35\n",
      "2256/2256 [==============================] - 18s 8ms/step - loss: 0.4559 - accuracy: 0.8367 - val_loss: 0.5704 - val_accuracy: 0.8134\n",
      "Epoch 23/35\n",
      "2256/2256 [==============================] - 18s 8ms/step - loss: 0.4424 - accuracy: 0.8424 - val_loss: 0.5753 - val_accuracy: 0.8151\n",
      "Epoch 24/35\n",
      "2256/2256 [==============================] - 19s 8ms/step - loss: 0.4347 - accuracy: 0.8448 - val_loss: 0.5589 - val_accuracy: 0.8170\n",
      "Epoch 25/35\n",
      "2256/2256 [==============================] - 18s 8ms/step - loss: 0.4161 - accuracy: 0.8512 - val_loss: 0.5629 - val_accuracy: 0.8165\n",
      "Epoch 26/35\n",
      "2256/2256 [==============================] - 17s 8ms/step - loss: 0.4131 - accuracy: 0.8507 - val_loss: 0.5748 - val_accuracy: 0.8164\n",
      "Epoch 27/35\n",
      "2256/2256 [==============================] - 17s 8ms/step - loss: 0.4006 - accuracy: 0.8535 - val_loss: 0.5706 - val_accuracy: 0.8185\n",
      "Epoch 28/35\n",
      "2256/2256 [==============================] - 17s 8ms/step - loss: 0.3901 - accuracy: 0.8585 - val_loss: 0.5660 - val_accuracy: 0.8199\n",
      "Epoch 29/35\n",
      "2256/2256 [==============================] - 18s 8ms/step - loss: 0.3869 - accuracy: 0.8615 - val_loss: 0.5702 - val_accuracy: 0.8188\n",
      "Epoch 30/35\n",
      "2256/2256 [==============================] - 18s 8ms/step - loss: 0.3786 - accuracy: 0.8638 - val_loss: 0.5658 - val_accuracy: 0.8213\n",
      "Epoch 31/35\n",
      "2256/2256 [==============================] - 18s 8ms/step - loss: 0.3689 - accuracy: 0.8638 - val_loss: 0.5699 - val_accuracy: 0.8208\n",
      "Epoch 32/35\n",
      "2256/2256 [==============================] - 18s 8ms/step - loss: 0.3614 - accuracy: 0.8683 - val_loss: 0.5688 - val_accuracy: 0.8213\n",
      "Epoch 33/35\n",
      "2256/2256 [==============================] - 17s 8ms/step - loss: 0.3541 - accuracy: 0.8652 - val_loss: 0.5692 - val_accuracy: 0.8231\n",
      "Epoch 34/35\n",
      "2256/2256 [==============================] - 17s 8ms/step - loss: 0.3434 - accuracy: 0.8732 - val_loss: 0.5672 - val_accuracy: 0.8208\n",
      "Epoch 35/35\n",
      "2256/2256 [==============================] - 20s 9ms/step - loss: 0.3451 - accuracy: 0.8708 - val_loss: 0.5774 - val_accuracy: 0.8209\n"
     ]
    }
   ],
   "source": [
    "X_train_scaled = X_train_scaled.reshape(-1,28,28)\n",
    "y_train = y_train.to_numpy()\n",
    "val_scaled = val_scaled.reshape(-1,28,28)\n",
    "val_target = val_target.to_numpy()\n",
    "history = model.fit(X_train_scaled,y_train,batch_size=10,epochs=15,verbose=1,validation_data=(val_scaled,val_target))"
   ]
  },
  {
   "cell_type": "code",
   "execution_count": 44,
   "id": "6afa16ec",
   "metadata": {},
   "outputs": [
    {
     "data": {
      "text/plain": [
       "[<matplotlib.lines.Line2D at 0x2385a21d310>]"
      ]
     },
     "execution_count": 44,
     "metadata": {},
     "output_type": "execute_result"
    },
    {
     "data": {
      "image/png": "[encoded data removed]",
      "text/plain": [
       "<Figure size 432x288 with 1 Axes>"
      ]
     },
     "metadata": {
      "needs_background": "light"
     },
     "output_type": "display_data"
    }
   ],
   "source": [
    "plt.plot(history.history['loss'])\n",
    "plt.plot(history.history['val_loss'])\n"
   ]
  },
  {
   "cell_type": "code",
   "execution_count": 45,
   "id": "0a2a3c55",
   "metadata": {},
   "outputs": [
    {
     "data": {
      "text/plain": [
       "[<matplotlib.lines.Line2D at 0x2385bb08520>]"
      ]
     },
     "execution_count": 45,
     "metadata": {},
     "output_type": "execute_result"
    },
    {
     "data": {
      "image/png": "[encoded data removed]",
      "text/plain": [
       "<Figure size 432x288 with 1 Axes>"
      ]
     },
     "metadata": {
      "needs_background": "light"
     },
     "output_type": "display_data"
    }
   ],
   "source": [
    "plt.plot(history.history['accuracy'])\n",
    "plt.plot(history.history['val_accuracy'])"
   ]
  },
  {
   "cell_type": "code",
   "execution_count": null,
   "id": "75befb44",
   "metadata": {},
   "outputs": [],
   "source": []
  }
 ],
 "metadata": {
  "kernelspec": {
   "display_name": "venv",
   "language": "python",
   "name": "venv"
  },
  "language_info": {
   "codemirror_mode": {
    "name": "ipython",
    "version": 3
   },
   "file_extension": ".py",
   "mimetype": "text/x-python",
   "name": "python",
   "nbconvert_exporter": "python",
   "pygments_lexer": "ipython3",
   "version": "3.9.7"
  }
 },
 "nbformat": 4,
 "nbformat_minor": 5
}
