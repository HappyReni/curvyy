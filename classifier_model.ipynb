{
 "cells": [
  {
   "cell_type": "code",
   "execution_count": 1,
   "id": "bd0bf13a",
   "metadata": {},
   "outputs": [],
   "source": [
    "import numpy as np\n",
    "import pandas as pd\n",
    "import matplotlib.pyplot as plt\n",
    "import tensorflow as tf\n",
    "from tensorflow import keras\n",
    "from sklearn.model_selection import train_test_split\n"
   ]
  },
  {
   "cell_type": "code",
   "execution_count": 2,
   "id": "4bb7d2f9",
   "metadata": {},
   "outputs": [
    {
     "data": {
      "text/html": [
       "<div>\n",
       "<style scoped>\n",
       "    .dataframe tbody tr th:only-of-type {\n",
       "        vertical-align: middle;\n",
       "    }\n",
       "\n",
       "    .dataframe tbody tr th {\n",
       "        vertical-align: top;\n",
       "    }\n",
       "\n",
       "    .dataframe thead th {\n",
       "        text-align: right;\n",
       "    }\n",
       "</style>\n",
       "<table border=\"1\" class=\"dataframe\">\n",
       "  <thead>\n",
       "    <tr style=\"text-align: right;\">\n",
       "      <th></th>\n",
       "      <th>35</th>\n",
       "      <th>0</th>\n",
       "      <th>0.1</th>\n",
       "      <th>0.2</th>\n",
       "      <th>0.3</th>\n",
       "      <th>0.4</th>\n",
       "      <th>0.5</th>\n",
       "      <th>0.6</th>\n",
       "      <th>0.7</th>\n",
       "      <th>0.8</th>\n",
       "      <th>...</th>\n",
       "      <th>0.466</th>\n",
       "      <th>0.467</th>\n",
       "      <th>0.468</th>\n",
       "      <th>0.469</th>\n",
       "      <th>0.470</th>\n",
       "      <th>0.471</th>\n",
       "      <th>0.472</th>\n",
       "      <th>0.473</th>\n",
       "      <th>0.474</th>\n",
       "      <th>0.475</th>\n",
       "    </tr>\n",
       "  </thead>\n",
       "  <tbody>\n",
       "    <tr>\n",
       "      <th>0</th>\n",
       "      <td>36</td>\n",
       "      <td>0</td>\n",
       "      <td>0</td>\n",
       "      <td>0</td>\n",
       "      <td>0</td>\n",
       "      <td>0</td>\n",
       "      <td>0</td>\n",
       "      <td>0</td>\n",
       "      <td>0</td>\n",
       "      <td>0</td>\n",
       "      <td>...</td>\n",
       "      <td>0</td>\n",
       "      <td>0</td>\n",
       "      <td>0</td>\n",
       "      <td>0</td>\n",
       "      <td>0</td>\n",
       "      <td>0</td>\n",
       "      <td>0</td>\n",
       "      <td>0</td>\n",
       "      <td>0</td>\n",
       "      <td>0</td>\n",
       "    </tr>\n",
       "    <tr>\n",
       "      <th>1</th>\n",
       "      <td>6</td>\n",
       "      <td>0</td>\n",
       "      <td>0</td>\n",
       "      <td>0</td>\n",
       "      <td>0</td>\n",
       "      <td>0</td>\n",
       "      <td>0</td>\n",
       "      <td>0</td>\n",
       "      <td>0</td>\n",
       "      <td>0</td>\n",
       "      <td>...</td>\n",
       "      <td>0</td>\n",
       "      <td>0</td>\n",
       "      <td>0</td>\n",
       "      <td>0</td>\n",
       "      <td>0</td>\n",
       "      <td>0</td>\n",
       "      <td>0</td>\n",
       "      <td>0</td>\n",
       "      <td>0</td>\n",
       "      <td>0</td>\n",
       "    </tr>\n",
       "    <tr>\n",
       "      <th>2</th>\n",
       "      <td>3</td>\n",
       "      <td>0</td>\n",
       "      <td>0</td>\n",
       "      <td>0</td>\n",
       "      <td>0</td>\n",
       "      <td>0</td>\n",
       "      <td>0</td>\n",
       "      <td>0</td>\n",
       "      <td>0</td>\n",
       "      <td>0</td>\n",
       "      <td>...</td>\n",
       "      <td>0</td>\n",
       "      <td>0</td>\n",
       "      <td>0</td>\n",
       "      <td>0</td>\n",
       "      <td>0</td>\n",
       "      <td>0</td>\n",
       "      <td>0</td>\n",
       "      <td>0</td>\n",
       "      <td>0</td>\n",
       "      <td>0</td>\n",
       "    </tr>\n",
       "    <tr>\n",
       "      <th>3</th>\n",
       "      <td>22</td>\n",
       "      <td>0</td>\n",
       "      <td>0</td>\n",
       "      <td>0</td>\n",
       "      <td>0</td>\n",
       "      <td>0</td>\n",
       "      <td>0</td>\n",
       "      <td>0</td>\n",
       "      <td>0</td>\n",
       "      <td>0</td>\n",
       "      <td>...</td>\n",
       "      <td>0</td>\n",
       "      <td>0</td>\n",
       "      <td>0</td>\n",
       "      <td>0</td>\n",
       "      <td>0</td>\n",
       "      <td>0</td>\n",
       "      <td>0</td>\n",
       "      <td>0</td>\n",
       "      <td>0</td>\n",
       "      <td>0</td>\n",
       "    </tr>\n",
       "    <tr>\n",
       "      <th>4</th>\n",
       "      <td>38</td>\n",
       "      <td>0</td>\n",
       "      <td>0</td>\n",
       "      <td>0</td>\n",
       "      <td>0</td>\n",
       "      <td>0</td>\n",
       "      <td>0</td>\n",
       "      <td>0</td>\n",
       "      <td>0</td>\n",
       "      <td>0</td>\n",
       "      <td>...</td>\n",
       "      <td>0</td>\n",
       "      <td>0</td>\n",
       "      <td>0</td>\n",
       "      <td>0</td>\n",
       "      <td>0</td>\n",
       "      <td>0</td>\n",
       "      <td>0</td>\n",
       "      <td>0</td>\n",
       "      <td>0</td>\n",
       "      <td>0</td>\n",
       "    </tr>\n",
       "  </tbody>\n",
       "</table>\n",
       "<p>5 rows × 785 columns</p>\n",
       "</div>"
      ],
      "text/plain": [
       "   35  0  0.1  0.2  0.3  0.4  0.5  0.6  0.7  0.8  ...  0.466  0.467  0.468  \\\n",
       "0  36  0    0    0    0    0    0    0    0    0  ...      0      0      0   \n",
       "1   6  0    0    0    0    0    0    0    0    0  ...      0      0      0   \n",
       "2   3  0    0    0    0    0    0    0    0    0  ...      0      0      0   \n",
       "3  22  0    0    0    0    0    0    0    0    0  ...      0      0      0   \n",
       "4  38  0    0    0    0    0    0    0    0    0  ...      0      0      0   \n",
       "\n",
       "   0.469  0.470  0.471  0.472  0.473  0.474  0.475  \n",
       "0      0      0      0      0      0      0      0  \n",
       "1      0      0      0      0      0      0      0  \n",
       "2      0      0      0      0      0      0      0  \n",
       "3      0      0      0      0      0      0      0  \n",
       "4      0      0      0      0      0      0      0  \n",
       "\n",
       "[5 rows x 785 columns]"
      ]
     },
     "execution_count": 2,
     "metadata": {},
     "output_type": "execute_result"
    }
   ],
   "source": [
    "data_train = pd.read_csv('data/emnist-byclass-train.csv')\n",
    "data_test = pd.read_csv('data/emnist-byclass-test.csv')\n",
    "data_train.head()"
   ]
  },
  {
   "cell_type": "code",
   "execution_count": 3,
   "id": "fbf3325d",
   "metadata": {},
   "outputs": [
    {
     "name": "stdout",
     "output_type": "stream",
     "text": [
      "(697931, 784) (697931,) (116322, 784) (116322,)\n"
     ]
    }
   ],
   "source": [
    "X_train = data_train.iloc[:,1:]\n",
    "y_train = data_train.iloc[:,0]\n",
    "\n",
    "X_test = data_test.iloc[:,1:]\n",
    "y_test = data_test.iloc[:,0]\n",
    "\n",
    "\n",
    "print(X_train.shape, y_train.shape,X_test.shape,y_test.shape)"
   ]
  },
  {
   "cell_type": "code",
   "execution_count": 4,
   "id": "75437196",
   "metadata": {},
   "outputs": [
    {
     "data": {
      "image/png": "[encoded data removed]",
      "text/plain": [
       "<Figure size 432x288 with 9 Axes>"
      ]
     },
     "metadata": {
      "needs_background": "light"
     },
     "output_type": "display_data"
    }
   ],
   "source": [
    "X_train = X_train.to_numpy()\n",
    "\n",
    "for i in range(100, 109):\n",
    "    plt.subplot(330 + (i+1))\n",
    "    plt.imshow(X_train[i].reshape(28,28), cmap='gray_r')\n",
    "    plt.title(chr(mapp[y_train[i]]))"
   ]
  },
  {
   "cell_type": "code",
   "execution_count": 5,
   "id": "a18b33a0",
   "metadata": {},
   "outputs": [],
   "source": [
    "X_train_scaled = X_train / 255.0\n",
    "X_train_scaled = X_train_scaled.astype('float32')\n",
    "X_train_scaled,val_scaled,y_train,val_target = train_test_split(X_train_scaled,y_train,train_size=0.2, random_state=42)"
   ]
  },
  {
   "cell_type": "code",
   "execution_count": 6,
   "id": "7d66cb03",
   "metadata": {},
   "outputs": [
    {
     "name": "stdout",
     "output_type": "stream",
     "text": [
      "Model: \"sequential\"\n",
      "_________________________________________________________________\n",
      " Layer (type)                Output Shape              Param #   \n",
      "=================================================================\n",
      " flatten (Flatten)           (None, 784)               0         \n",
      "                                                                 \n",
      " hidden (Dense)              (None, 100)               78500     \n",
      "                                                                 \n",
      " output (Dense)              (None, 10)                1010      \n",
      "                                                                 \n",
      "=================================================================\n",
      "Total params: 79,510\n",
      "Trainable params: 79,510\n",
      "Non-trainable params: 0\n",
      "_________________________________________________________________\n"
     ]
    }
   ],
   "source": [
    "model = keras.Sequential()\n",
    "model.add(keras.layers.Flatten(input_shape=(28,28)))\n",
    "model.add(keras.layers.Dense(100,activation='relu',name='hidden'))\n",
    "model.add(keras.layers.Dense(10,activation='softmax',name='output'))\n",
    "\n",
    "model.summary()"
   ]
  },
  {
   "cell_type": "code",
   "execution_count": 7,
   "id": "f190b85f",
   "metadata": {},
   "outputs": [],
   "source": [
    "from keras.optimizers import gradient_descent_v2 \n",
    "\n",
    "learning_rate = 0.001\n",
    "momentum = 0.9\n",
    "sgd = gradient_descent_v2.SGD(learning_rate=learning_rate, momentum=momentum,  nesterov=False)\n",
    "model.compile(optimizer=sgd,loss='sparse_categorical_crossentropy',metrics='accuracy')"
   ]
  },
  {
   "cell_type": "code",
   "execution_count": 8,
   "id": "28ad79a0",
   "metadata": {},
   "outputs": [
    {
     "name": "stdout",
     "output_type": "stream",
     "text": [
      "Epoch 1/10\n",
      "273/273 [==============================] - 4s 10ms/step - loss: nan - accuracy: 0.0489 - val_loss: nan - val_accuracy: 0.0497\n",
      "Epoch 2/10\n",
      "273/273 [==============================] - 2s 8ms/step - loss: nan - accuracy: 0.0490 - val_loss: nan - val_accuracy: 0.0497\n",
      "Epoch 3/10\n",
      "273/273 [==============================] - 2s 8ms/step - loss: nan - accuracy: 0.0490 - val_loss: nan - val_accuracy: 0.0497\n",
      "Epoch 4/10\n",
      "273/273 [==============================] - 2s 7ms/step - loss: nan - accuracy: 0.0490 - val_loss: nan - val_accuracy: 0.0497\n",
      "Epoch 5/10\n",
      "273/273 [==============================] - 2s 8ms/step - loss: nan - accuracy: 0.0490 - val_loss: nan - val_accuracy: 0.0497\n",
      "Epoch 6/10\n",
      "273/273 [==============================] - 2s 8ms/step - loss: nan - accuracy: 0.0490 - val_loss: nan - val_accuracy: 0.0497\n",
      "Epoch 7/10\n",
      "273/273 [==============================] - 2s 8ms/step - loss: nan - accuracy: 0.0490 - val_loss: nan - val_accuracy: 0.0497\n",
      "Epoch 8/10\n",
      "273/273 [==============================] - 2s 8ms/step - loss: nan - accuracy: 0.0490 - val_loss: nan - val_accuracy: 0.0497\n",
      "Epoch 9/10\n",
      "273/273 [==============================] - 2s 9ms/step - loss: nan - accuracy: 0.0490 - val_loss: nan - val_accuracy: 0.0497\n",
      "Epoch 10/10\n",
      "273/273 [==============================] - 2s 8ms/step - loss: nan - accuracy: 0.0490 - val_loss: nan - val_accuracy: 0.0497\n"
     ]
    }
   ],
   "source": [
    "X_train_scaled = X_train_scaled.reshape(-1,28,28)\n",
    "val_scaled = val_scaled.reshape(-1,28,28)\n",
    "\n",
    "history = model.fit(X_train_scaled,y_train, batch_size = 512,epochs=10,validation_data=(val_scaled,val_target))"
   ]
  },
  {
   "cell_type": "code",
   "execution_count": 63,
   "id": "6afa16ec",
   "metadata": {},
   "outputs": [
    {
     "name": "stdout",
     "output_type": "stream",
     "text": [
      "(27917, 28, 28) (27917,)\n"
     ]
    }
   ],
   "source": [
    "print(X_train_scaled.shape,y_train.shape)"
   ]
  },
  {
   "cell_type": "code",
   "execution_count": null,
   "id": "0a2a3c55",
   "metadata": {},
   "outputs": [],
   "source": []
  }
 ],
 "metadata": {
  "kernelspec": {
   "display_name": "venv",
   "language": "python",
   "name": "venv"
  },
  "language_info": {
   "codemirror_mode": {
    "name": "ipython",
    "version": 3
   },
   "file_extension": ".py",
   "mimetype": "text/x-python",
   "name": "python",
   "nbconvert_exporter": "python",
   "pygments_lexer": "ipython3",
   "version": "3.9.7"
  }
 },
 "nbformat": 4,
 "nbformat_minor": 5
}
